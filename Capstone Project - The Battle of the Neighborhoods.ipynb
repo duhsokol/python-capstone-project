{
 "cells": [
  {
   "cell_type": "markdown",
   "metadata": {},
   "source": [
    "## Cover page - TBD\n",
    "\n",
    "\n",
    "\n",
    "\n",
    "\n"
   ]
  },
  {
   "cell_type": "markdown",
   "metadata": {},
   "source": [
    "## Table of contents"
   ]
  },
  {
   "cell_type": "markdown",
   "metadata": {},
   "source": [
    "*TBD*"
   ]
  },
  {
   "cell_type": "markdown",
   "metadata": {},
   "source": [
    "## Introductory/Business Problem"
   ]
  },
  {
   "cell_type": "markdown",
   "metadata": {},
   "source": [
    "Moving to a new city that one has never been to and choosing a new place to live in is a challenging task. You need to find an apartment/house for rent in a neighborhood that fits your criteria for transportation, cost of living, safety, and nearby availability of specific venues such as grocery stores, hospitals, restuarants, entertainment, schools, and parks. \n",
    "\n",
    "As a resident of Denver, CO, I would like to make that process easier for new-comers by segmenting the city into neighbrohoods and clustering them based on socioeconomic and location characteristics. "
   ]
  },
  {
   "cell_type": "markdown",
   "metadata": {},
   "source": [
    "## Methodology/Data"
   ]
  },
  {
   "cell_type": "markdown",
   "metadata": {},
   "source": [
    "- **Foursquare API** will be used to access most up to date venue/facility data in Denver,CO\n",
    "- **City and County of Denver** (later CCD) offers over 200 open data sets in csv and other formats and for this project I selected the following:\n",
    "    - **<a href=https://www.denvergov.org/media/gis/DataCatalog/crime/csv/crime.csv>Crime Data</a>:** This dataset includes criminal offenses in the City and County of Denver for the previous five calendar years plus the current year to date. The data is based on the National Incident Based Reporting System (NIBRS) which includes all victims of person crimes and all crimes within an incident. \n",
    "    -**<a href=https://denvergov.org/media/gis/DataCatalog/equity_index_2020___neighborhood/csv/equity_index_2020___neighborhood.csv>Neighborhood Equity Index 2020</a>**:This index is a visual representation of some of the socioeconomic, built environment, health care, and heath barriers that residents of Denver neighborhoods face in accessing opportunities to lead healthy, productive lives. This index presents data in a way that helps inform decision makers about where City investment and resources are needed most so that those living in Denver's underserved neighborhoods can reach their full potential.\n",
    "    -**<a href=https://www.denvergov.org/opendata/dataset/city-and-county-of-denver-census-neighborhood-demographics-2010>Census Neighborhood Demographics</a>**:CCD Based upon the Neighborhoods layer from Community Planning and Development. This layer is a duplicate of that layer, but with additional demographic information compiled from the 2010 US Census.\n",
    "- **Webscraping** one of the sources below (or multiple) to extract rental rates data for an apartment in denver: \n",
    "    - **<a href=https://www.apartmentlist.com/renter-life/average-rent-in-denver>ApartmetList</a>**: hosts a page that outlines average rental rates for 1-BR apartments in Denver grouped by neighborhood. \n",
    "    - **<a href=https://www.zumper.com/rent-research/denver-co>Zumper</a>**: hosts a page that outlines average rental rates for different apartment types in Denver grouped by neighborhood.\n",
    "    - **<a href=https://www.rentcafe.com/average-rent-market-trends/us/co/denver/>RentCafe</a>**: another alternative for scraping "
   ]
  },
  {
   "cell_type": "markdown",
   "metadata": {},
   "source": [
    "## Results section"
   ]
  },
  {
   "cell_type": "markdown",
   "metadata": {},
   "source": [
    "(Blank)"
   ]
  },
  {
   "cell_type": "markdown",
   "metadata": {},
   "source": [
    "## Discussion section"
   ]
  },
  {
   "cell_type": "markdown",
   "metadata": {},
   "source": [
    "(Blank)"
   ]
  },
  {
   "cell_type": "markdown",
   "metadata": {},
   "source": [
    "## Conclusion section"
   ]
  },
  {
   "cell_type": "markdown",
   "metadata": {},
   "source": [
    "(Blank)"
   ]
  },
  {
   "cell_type": "markdown",
   "metadata": {},
   "source": [
    "## References"
   ]
  },
  {
   "cell_type": "markdown",
   "metadata": {},
   "source": [
    "(Blank)"
   ]
  },
  {
   "cell_type": "markdown",
   "metadata": {},
   "source": [
    "## Acknowledgments"
   ]
  },
  {
   "cell_type": "markdown",
   "metadata": {},
   "source": [
    "(Blank)"
   ]
  },
  {
   "cell_type": "markdown",
   "metadata": {},
   "source": [
    "## Appendix"
   ]
  },
  {
   "cell_type": "markdown",
   "metadata": {},
   "source": [
    "(Blank)"
   ]
  }
 ],
 "metadata": {
  "kernelspec": {
   "display_name": "Python 3",
   "language": "python",
   "name": "python3"
  },
  "language_info": {
   "codemirror_mode": {
    "name": "ipython",
    "version": 3
   },
   "file_extension": ".py",
   "mimetype": "text/x-python",
   "name": "python",
   "nbconvert_exporter": "python",
   "pygments_lexer": "ipython3",
   "version": "3.8.5"
  }
 },
 "nbformat": 4,
 "nbformat_minor": 4
}
